{
  "nbformat": 4,
  "nbformat_minor": 0,
  "metadata": {
    "accelerator": "GPU",
    "colab": {
      "name": "A4_template_nn.ipynb",
      "provenance": [],
      "collapsed_sections": []
    },
    "kernelspec": {
      "display_name": "Python 3",
      "language": "python",
      "name": "python3"
    },
    "language_info": {
      "codemirror_mode": {
        "name": "ipython",
        "version": 3
      },
      "file_extension": ".py",
      "mimetype": "text/x-python",
      "name": "python",
      "nbconvert_exporter": "python",
      "pygments_lexer": "ipython3",
      "version": "3.8.3"
    },
    "widgets": {
      "application/vnd.jupyter.widget-state+json": {
        "11e60d895e9142beab189eaf0fa0df14": {
          "model_module": "@jupyter-widgets/controls",
          "model_name": "HBoxModel",
          "state": {
            "_view_name": "HBoxView",
            "_dom_classes": [],
            "_model_name": "HBoxModel",
            "_view_module": "@jupyter-widgets/controls",
            "_model_module_version": "1.5.0",
            "_view_count": null,
            "_view_module_version": "1.5.0",
            "box_style": "",
            "layout": "IPY_MODEL_41e453fda22e4508afa28b421569e561",
            "_model_module": "@jupyter-widgets/controls",
            "children": [
              "IPY_MODEL_6e11ee69f84d420a938e196b07ba6274",
              "IPY_MODEL_195c3403a30f4350a69abdc1caafa795"
            ]
          }
        },
        "41e453fda22e4508afa28b421569e561": {
          "model_module": "@jupyter-widgets/base",
          "model_name": "LayoutModel",
          "state": {
            "_view_name": "LayoutView",
            "grid_template_rows": null,
            "right": null,
            "justify_content": null,
            "_view_module": "@jupyter-widgets/base",
            "overflow": null,
            "_model_module_version": "1.2.0",
            "_view_count": null,
            "flex_flow": null,
            "width": null,
            "min_width": null,
            "border": null,
            "align_items": null,
            "bottom": null,
            "_model_module": "@jupyter-widgets/base",
            "top": null,
            "grid_column": null,
            "overflow_y": null,
            "overflow_x": null,
            "grid_auto_flow": null,
            "grid_area": null,
            "grid_template_columns": null,
            "flex": null,
            "_model_name": "LayoutModel",
            "justify_items": null,
            "grid_row": null,
            "max_height": null,
            "align_content": null,
            "visibility": null,
            "align_self": null,
            "height": null,
            "min_height": null,
            "padding": null,
            "grid_auto_rows": null,
            "grid_gap": null,
            "max_width": null,
            "order": null,
            "_view_module_version": "1.2.0",
            "grid_template_areas": null,
            "object_position": null,
            "object_fit": null,
            "grid_auto_columns": null,
            "margin": null,
            "display": null,
            "left": null
          }
        },
        "6e11ee69f84d420a938e196b07ba6274": {
          "model_module": "@jupyter-widgets/controls",
          "model_name": "FloatProgressModel",
          "state": {
            "_view_name": "ProgressView",
            "style": "IPY_MODEL_148d0078a22543a395909db21f947d4d",
            "_dom_classes": [],
            "description": "100%",
            "_model_name": "FloatProgressModel",
            "bar_style": "success",
            "max": 7627,
            "_view_module": "@jupyter-widgets/controls",
            "_model_module_version": "1.5.0",
            "value": 7627,
            "_view_count": null,
            "_view_module_version": "1.5.0",
            "orientation": "horizontal",
            "min": 0,
            "description_tooltip": null,
            "_model_module": "@jupyter-widgets/controls",
            "layout": "IPY_MODEL_05e4f892aa7043299e8675bf2329eb2c"
          }
        },
        "195c3403a30f4350a69abdc1caafa795": {
          "model_module": "@jupyter-widgets/controls",
          "model_name": "HTMLModel",
          "state": {
            "_view_name": "HTMLView",
            "style": "IPY_MODEL_8354b303c3a14eec8ab2d81bd8a9da30",
            "_dom_classes": [],
            "description": "",
            "_model_name": "HTMLModel",
            "placeholder": "​",
            "_view_module": "@jupyter-widgets/controls",
            "_model_module_version": "1.5.0",
            "value": " 7627/7627 [01:29&lt;00:00, 85.35it/s]",
            "_view_count": null,
            "_view_module_version": "1.5.0",
            "description_tooltip": null,
            "_model_module": "@jupyter-widgets/controls",
            "layout": "IPY_MODEL_4aacc03bbd0b433a8ff3fbd8f1a72231"
          }
        },
        "148d0078a22543a395909db21f947d4d": {
          "model_module": "@jupyter-widgets/controls",
          "model_name": "ProgressStyleModel",
          "state": {
            "_view_name": "StyleView",
            "_model_name": "ProgressStyleModel",
            "description_width": "initial",
            "_view_module": "@jupyter-widgets/base",
            "_model_module_version": "1.5.0",
            "_view_count": null,
            "_view_module_version": "1.2.0",
            "bar_color": null,
            "_model_module": "@jupyter-widgets/controls"
          }
        },
        "05e4f892aa7043299e8675bf2329eb2c": {
          "model_module": "@jupyter-widgets/base",
          "model_name": "LayoutModel",
          "state": {
            "_view_name": "LayoutView",
            "grid_template_rows": null,
            "right": null,
            "justify_content": null,
            "_view_module": "@jupyter-widgets/base",
            "overflow": null,
            "_model_module_version": "1.2.0",
            "_view_count": null,
            "flex_flow": null,
            "width": null,
            "min_width": null,
            "border": null,
            "align_items": null,
            "bottom": null,
            "_model_module": "@jupyter-widgets/base",
            "top": null,
            "grid_column": null,
            "overflow_y": null,
            "overflow_x": null,
            "grid_auto_flow": null,
            "grid_area": null,
            "grid_template_columns": null,
            "flex": null,
            "_model_name": "LayoutModel",
            "justify_items": null,
            "grid_row": null,
            "max_height": null,
            "align_content": null,
            "visibility": null,
            "align_self": null,
            "height": null,
            "min_height": null,
            "padding": null,
            "grid_auto_rows": null,
            "grid_gap": null,
            "max_width": null,
            "order": null,
            "_view_module_version": "1.2.0",
            "grid_template_areas": null,
            "object_position": null,
            "object_fit": null,
            "grid_auto_columns": null,
            "margin": null,
            "display": null,
            "left": null
          }
        },
        "8354b303c3a14eec8ab2d81bd8a9da30": {
          "model_module": "@jupyter-widgets/controls",
          "model_name": "DescriptionStyleModel",
          "state": {
            "_view_name": "StyleView",
            "_model_name": "DescriptionStyleModel",
            "description_width": "",
            "_view_module": "@jupyter-widgets/base",
            "_model_module_version": "1.5.0",
            "_view_count": null,
            "_view_module_version": "1.2.0",
            "_model_module": "@jupyter-widgets/controls"
          }
        },
        "4aacc03bbd0b433a8ff3fbd8f1a72231": {
          "model_module": "@jupyter-widgets/base",
          "model_name": "LayoutModel",
          "state": {
            "_view_name": "LayoutView",
            "grid_template_rows": null,
            "right": null,
            "justify_content": null,
            "_view_module": "@jupyter-widgets/base",
            "overflow": null,
            "_model_module_version": "1.2.0",
            "_view_count": null,
            "flex_flow": null,
            "width": null,
            "min_width": null,
            "border": null,
            "align_items": null,
            "bottom": null,
            "_model_module": "@jupyter-widgets/base",
            "top": null,
            "grid_column": null,
            "overflow_y": null,
            "overflow_x": null,
            "grid_auto_flow": null,
            "grid_area": null,
            "grid_template_columns": null,
            "flex": null,
            "_model_name": "LayoutModel",
            "justify_items": null,
            "grid_row": null,
            "max_height": null,
            "align_content": null,
            "visibility": null,
            "align_self": null,
            "height": null,
            "min_height": null,
            "padding": null,
            "grid_auto_rows": null,
            "grid_gap": null,
            "max_width": null,
            "order": null,
            "_view_module_version": "1.2.0",
            "grid_template_areas": null,
            "object_position": null,
            "object_fit": null,
            "grid_auto_columns": null,
            "margin": null,
            "display": null,
            "left": null
          }
        },
        "446e1b59e04b4a90929b6e6f2718be12": {
          "model_module": "@jupyter-widgets/controls",
          "model_name": "HBoxModel",
          "state": {
            "_dom_classes": [],
            "_model_module": "@jupyter-widgets/controls",
            "_model_module_version": "1.5.0",
            "_model_name": "HBoxModel",
            "_view_count": null,
            "_view_module": "@jupyter-widgets/controls",
            "_view_module_version": "1.5.0",
            "_view_name": "HBoxView",
            "box_style": "",
            "children": [
              "IPY_MODEL_ea09f53200bf4e35ac88b755147fc337",
              "IPY_MODEL_a3e3aebc1d194f5f9b1680639e9e072c"
            ],
            "layout": "IPY_MODEL_805c9e1efef243fc87c30cc23f9df6f8"
          }
        },
        "805c9e1efef243fc87c30cc23f9df6f8": {
          "model_module": "@jupyter-widgets/base",
          "model_name": "LayoutModel",
          "state": {
            "_model_module": "@jupyter-widgets/base",
            "_model_module_version": "1.2.0",
            "_model_name": "LayoutModel",
            "_view_count": null,
            "_view_module": "@jupyter-widgets/base",
            "_view_module_version": "1.2.0",
            "_view_name": "LayoutView",
            "align_content": null,
            "align_items": null,
            "align_self": null,
            "border": null,
            "bottom": null,
            "display": null,
            "flex": null,
            "flex_flow": null,
            "grid_area": null,
            "grid_auto_columns": null,
            "grid_auto_flow": null,
            "grid_auto_rows": null,
            "grid_column": null,
            "grid_gap": null,
            "grid_row": null,
            "grid_template_areas": null,
            "grid_template_columns": null,
            "grid_template_rows": null,
            "height": null,
            "justify_content": null,
            "justify_items": null,
            "left": null,
            "margin": null,
            "max_height": null,
            "max_width": null,
            "min_height": null,
            "min_width": null,
            "object_fit": null,
            "object_position": null,
            "order": null,
            "overflow": null,
            "overflow_x": null,
            "overflow_y": null,
            "padding": null,
            "right": null,
            "top": null,
            "visibility": null,
            "width": null
          }
        },
        "ea09f53200bf4e35ac88b755147fc337": {
          "model_module": "@jupyter-widgets/controls",
          "model_name": "FloatProgressModel",
          "state": {
            "_dom_classes": [],
            "_model_module": "@jupyter-widgets/controls",
            "_model_module_version": "1.5.0",
            "_model_name": "FloatProgressModel",
            "_view_count": null,
            "_view_module": "@jupyter-widgets/controls",
            "_view_module_version": "1.5.0",
            "_view_name": "ProgressView",
            "bar_style": "success",
            "description": "100%",
            "description_tooltip": null,
            "layout": "IPY_MODEL_eec96bdbe3354f5b8234c5362bc6838a",
            "max": 7360,
            "min": 0,
            "orientation": "horizontal",
            "style": "IPY_MODEL_1df51aaafc214051b459f8fe3c828593",
            "value": 7360
          }
        },
        "a3e3aebc1d194f5f9b1680639e9e072c": {
          "model_module": "@jupyter-widgets/controls",
          "model_name": "HTMLModel",
          "state": {
            "_dom_classes": [],
            "_model_module": "@jupyter-widgets/controls",
            "_model_module_version": "1.5.0",
            "_model_name": "HTMLModel",
            "_view_count": null,
            "_view_module": "@jupyter-widgets/controls",
            "_view_module_version": "1.5.0",
            "_view_name": "HTMLView",
            "description": "",
            "description_tooltip": null,
            "layout": "IPY_MODEL_1c2c8a347f3442a28d07c41c8c84dd27",
            "placeholder": "​",
            "style": "IPY_MODEL_5ae3e86ecd1f4d0f9b3cbf700ab11c7a",
            "value": " 7360/7360 [01:14&lt;00:00, 99.30it/s]"
          }
        },
        "1df51aaafc214051b459f8fe3c828593": {
          "model_module": "@jupyter-widgets/controls",
          "model_name": "ProgressStyleModel",
          "state": {
            "_model_module": "@jupyter-widgets/controls",
            "_model_module_version": "1.5.0",
            "_model_name": "ProgressStyleModel",
            "_view_count": null,
            "_view_module": "@jupyter-widgets/base",
            "_view_module_version": "1.2.0",
            "_view_name": "StyleView",
            "bar_color": null,
            "description_width": "initial"
          }
        },
        "eec96bdbe3354f5b8234c5362bc6838a": {
          "model_module": "@jupyter-widgets/base",
          "model_name": "LayoutModel",
          "state": {
            "_model_module": "@jupyter-widgets/base",
            "_model_module_version": "1.2.0",
            "_model_name": "LayoutModel",
            "_view_count": null,
            "_view_module": "@jupyter-widgets/base",
            "_view_module_version": "1.2.0",
            "_view_name": "LayoutView",
            "align_content": null,
            "align_items": null,
            "align_self": null,
            "border": null,
            "bottom": null,
            "display": null,
            "flex": null,
            "flex_flow": null,
            "grid_area": null,
            "grid_auto_columns": null,
            "grid_auto_flow": null,
            "grid_auto_rows": null,
            "grid_column": null,
            "grid_gap": null,
            "grid_row": null,
            "grid_template_areas": null,
            "grid_template_columns": null,
            "grid_template_rows": null,
            "height": null,
            "justify_content": null,
            "justify_items": null,
            "left": null,
            "margin": null,
            "max_height": null,
            "max_width": null,
            "min_height": null,
            "min_width": null,
            "object_fit": null,
            "object_position": null,
            "order": null,
            "overflow": null,
            "overflow_x": null,
            "overflow_y": null,
            "padding": null,
            "right": null,
            "top": null,
            "visibility": null,
            "width": null
          }
        },
        "5ae3e86ecd1f4d0f9b3cbf700ab11c7a": {
          "model_module": "@jupyter-widgets/controls",
          "model_name": "DescriptionStyleModel",
          "state": {
            "_model_module": "@jupyter-widgets/controls",
            "_model_module_version": "1.5.0",
            "_model_name": "DescriptionStyleModel",
            "_view_count": null,
            "_view_module": "@jupyter-widgets/base",
            "_view_module_version": "1.2.0",
            "_view_name": "StyleView",
            "description_width": ""
          }
        },
        "1c2c8a347f3442a28d07c41c8c84dd27": {
          "model_module": "@jupyter-widgets/base",
          "model_name": "LayoutModel",
          "state": {
            "_model_module": "@jupyter-widgets/base",
            "_model_module_version": "1.2.0",
            "_model_name": "LayoutModel",
            "_view_count": null,
            "_view_module": "@jupyter-widgets/base",
            "_view_module_version": "1.2.0",
            "_view_name": "LayoutView",
            "align_content": null,
            "align_items": null,
            "align_self": null,
            "border": null,
            "bottom": null,
            "display": null,
            "flex": null,
            "flex_flow": null,
            "grid_area": null,
            "grid_auto_columns": null,
            "grid_auto_flow": null,
            "grid_auto_rows": null,
            "grid_column": null,
            "grid_gap": null,
            "grid_row": null,
            "grid_template_areas": null,
            "grid_template_columns": null,
            "grid_template_rows": null,
            "height": null,
            "justify_content": null,
            "justify_items": null,
            "left": null,
            "margin": null,
            "max_height": null,
            "max_width": null,
            "min_height": null,
            "min_width": null,
            "object_fit": null,
            "object_position": null,
            "order": null,
            "overflow": null,
            "overflow_x": null,
            "overflow_y": null,
            "padding": null,
            "right": null,
            "top": null,
            "visibility": null,
            "width": null
          }
        }
      }
    }
  },
  "cells": [
    {
      "cell_type": "code",
      "metadata": {
        "id": "KiMrkOjeWj1A"
      },
      "source": [
        "# unzip files:\n",
        "\n",
        "! unzip -q img_test.zip\n",
        "! unzip -q img_train.zip"
      ],
      "execution_count": null,
      "outputs": []
    },
    {
      "cell_type": "code",
      "metadata": {
        "id": "BEur8cLCR1Zk"
      },
      "source": [
        "import os\n",
        "\n",
        "import pandas as pd\n",
        "from tqdm.notebook import tqdm\n",
        "from PIL import Image\n",
        "import pandas as pd\n",
        "import os\n",
        "import numpy as np\n",
        "\n",
        "xy_train_df = pd.read_csv('train_xy.csv')\n",
        "x_test_df = pd.read_csv('test_x.csv')"
      ],
      "execution_count": 5,
      "outputs": []
    },
    {
      "cell_type": "code",
      "metadata": {
        "colab": {
          "base_uri": "https://localhost:8080/",
          "height": 66,
          "referenced_widgets": [
            "11e60d895e9142beab189eaf0fa0df14",
            "41e453fda22e4508afa28b421569e561",
            "6e11ee69f84d420a938e196b07ba6274",
            "195c3403a30f4350a69abdc1caafa795",
            "148d0078a22543a395909db21f947d4d",
            "05e4f892aa7043299e8675bf2329eb2c",
            "8354b303c3a14eec8ab2d81bd8a9da30",
            "4aacc03bbd0b433a8ff3fbd8f1a72231"
          ]
        },
        "id": "7NGojpH_R1Zl",
        "outputId": "41fa16d4-a93d-44ae-ae41-1a7cba61dde7"
      },
      "source": [
        "# preprocess image data\n",
        "\n",
        "def load_image(file):\n",
        "    try:\n",
        "        image = Image.open(\n",
        "            file\n",
        "        ).convert('LA').resize((64, 64))\n",
        "        arr = np.array(image)\n",
        "    except:\n",
        "        arr = np.zeros((64, 64, 2))\n",
        "    return arr\n",
        "\n",
        "\n",
        "# loading images:\n",
        "x_image = np.array([load_image(i) for i in tqdm(xy_train_df.image)])\n",
        "\n",
        "# loading summary: (force convert some of the non-string cell to string)\n",
        "x_text = xy_train_df.summary.astype('str')\n"
      ],
      "execution_count": 6,
      "outputs": [
        {
          "output_type": "display_data",
          "data": {
            "application/vnd.jupyter.widget-view+json": {
              "model_id": "11e60d895e9142beab189eaf0fa0df14",
              "version_minor": 0,
              "version_major": 2
            },
            "text/plain": [
              "HBox(children=(FloatProgress(value=0.0, max=7627.0), HTML(value='')))"
            ]
          },
          "metadata": {
            "tags": []
          }
        },
        {
          "output_type": "stream",
          "text": [
            "\n"
          ],
          "name": "stdout"
        }
      ]
    },
    {
      "cell_type": "code",
      "metadata": {
        "colab": {
          "base_uri": "https://localhost:8080/",
          "height": 285
        },
        "id": "Ayqfe7rQS0Mk",
        "outputId": "a7018cda-3079-4cff-f472-25ffe1e129aa"
      },
      "source": [
        "# check image loading\n",
        "import matplotlib.pyplot as plt\n",
        "plt.imshow(x_image[0, :, :, 0])"
      ],
      "execution_count": 7,
      "outputs": [
        {
          "output_type": "execute_result",
          "data": {
            "text/plain": [
              "<matplotlib.image.AxesImage at 0x7fb113320828>"
            ]
          },
          "metadata": {
            "tags": []
          },
          "execution_count": 7
        },
        {
          "output_type": "display_data",
          "data": {
            "image/png": "[encoded data removed]",
            "text/plain": [
              "<Figure size 432x288 with 1 Axes>"
            ]
          },
          "metadata": {
            "tags": [],
            "needs_background": "light"
          }
        }
      ]
    },
    {
      "cell_type": "code",
      "metadata": {
        "colab": {
          "base_uri": "https://localhost:8080/"
        },
        "id": "1z3FEfYsR1Zm",
        "outputId": "5cb7fa2b-bdf7-478c-a6df-71db64117859"
      },
      "source": [
        "from sklearn.model_selection import train_test_split\n",
        "\n",
        "# labels:\n",
        "y_price = xy_train_df.price\n",
        "y_type = xy_train_df.type.astype('category').cat.codes\n",
        "\n",
        "len_price = len(y_price.unique())\n",
        "len_type = len(y_type.unique())\n",
        "print('unique values for price category', len_price, y_price.unique())\n",
        "print('unique values for type category', len_type, y_type.unique())\n",
        "\n",
        "# splitting:\n",
        "\n",
        "x_tr_image, x_vl_image, x_tr_text, x_vl_text, y_tr_price, y_vl_price, y_tr_type, y_vl_type = train_test_split(\n",
        "    x_image, \n",
        "    x_text,\n",
        "    y_price,\n",
        "    y_type,\n",
        "    test_size=0.2)\n",
        "\n",
        "print(np.shape(x_tr_image))\n",
        "print(np.shape(x_vl_image))\n",
        "print(np.shape(y_tr_price))\n",
        "print(np.shape(y_vl_price))\n",
        "print(np.shape(y_tr_type))\n",
        "print(np.shape(y_vl_type))"
      ],
      "execution_count": null,
      "outputs": [
        {
          "output_type": "stream",
          "text": [
            "unique values for price category 3 [1 0 2]\n",
            "unique values for type category 24 [ 1 17 22 10 18 20  5  2  8  4 23 13 15 16 14 11 19  0 21  3  6 12  7  9]\n",
            "(6101, 64, 64, 2)\n",
            "(1526, 64, 64, 2)\n",
            "(6101,)\n",
            "(1526,)\n",
            "(6101,)\n",
            "(1526,)\n"
          ],
          "name": "stdout"
        }
      ]
    },
    {
      "cell_type": "code",
      "metadata": {
        "colab": {
          "base_uri": "https://localhost:8080/"
        },
        "id": "Xh70MnCDR1Zm",
        "outputId": "78b82e49-0bf3-4a35-b848-bfef4bfadaff"
      },
      "source": [
        "# preprocess text data\n",
        "\n",
        "from tensorflow.keras.preprocessing.text import Tokenizer\n",
        "from tensorflow.keras.preprocessing.sequence import pad_sequences\n",
        "from sklearn.model_selection import train_test_split\n",
        "from pprint import pprint\n",
        "\n",
        "vocab_size = 40000\n",
        "max_len = 100\n",
        "\n",
        "\n",
        "# build vocabulary from training set\n",
        "tokenizer = Tokenizer(num_words=vocab_size)\n",
        "tokenizer.fit_on_texts(x_tr_text)\n",
        "\n",
        "\n",
        "def _preprocess(list_of_text):\n",
        "    return pad_sequences(\n",
        "        tokenizer.texts_to_sequences(list_of_text),\n",
        "        maxlen=max_len,\n",
        "        padding='post',\n",
        "    )\n",
        "    \n",
        "\n",
        "# padding is done inside: \n",
        "x_tr_text_id = _preprocess(x_tr_text)\n",
        "x_vl_text_id = _preprocess(x_vl_text)\n",
        "\n",
        "print(x_tr_text_id.shape)\n",
        "print(x_vl_text_id.shape)"
      ],
      "execution_count": null,
      "outputs": [
        {
          "output_type": "stream",
          "text": [
            "(6101, 100)\n",
            "(1526, 100)\n"
          ],
          "name": "stdout"
        }
      ]
    },
    {
      "cell_type": "code",
      "metadata": {
        "colab": {
          "base_uri": "https://localhost:8080/"
        },
        "id": "p5E5zYSiR1Zm",
        "outputId": "251efb34-8937-4def-9447-e3fe8c845fd3"
      },
      "source": [
        "pprint(tokenizer.sequences_to_texts(x_tr_text_id[:5]))"
      ],
      "execution_count": null,
      "outputs": [
        {
          "output_type": "stream",
          "text": [
            "['your private sanctuary victorian style beautiful charming home only 20 '\n",
            " 'minutes from downtown montreal 5 minutes from the trudeau airport central '\n",
            " 'location quiet neighbourhood close to restaurants grocery stores bus stop up '\n",
            " 'the road with lots of private land and plenty of storage very spacious '\n",
            " \"private driveway large enough to fit 8 vehicles don't have to worry about \"\n",
            " 'parking stones throw away from waterfront across the street from park tennis '\n",
            " 'basketball hockey',\n",
            " \"mon logement est proche de le parc lafontaine l'avenue mont royal métro mon \"\n",
            " 'épicier piste cyclable centre ville petits cafés autobus et metro vous '\n",
            " \"apprécierez mon logement pour l'emplacement le quartier les espaces \"\n",
            " \"extérieurs l'ambiance et les gens mon logement est parfait pour les couples \"\n",
            " 'et les familles avec enfants',\n",
            " 'nestled in the heart of the plateau at villeneuve and st laurent enjoy a '\n",
            " 'large queen mattress with your nearby bathroom and shower above you have '\n",
            " \"access to an impeccable view across the montreal skyline with a large 300' \"\n",
            " 'sqft deck patio and bbq',\n",
            " 'hello welcome this lovely flat is located in the heart of downtown montreal '\n",
            " 'steps away from the guy concordia metro and walking distance to all of the '\n",
            " 'joys that the city has to offer if you have any questions please do not '\n",
            " 'hesitate to contact us we are happy to help to make your stay as enjoyable '\n",
            " 'and seamless as possible indoor parking is available please be advised max '\n",
            " 'vehicle height is 68 inches',\n",
            " 'charming apartment in the mile end right by trendy bernard st spacious '\n",
            " 'living space closed bedroom and office 2 balconies 1 queen size bed and 1 '\n",
            " 'sofa bed washer dryer wifi cable and bedding all included my adorable cat '\n",
            " 'margaret is included very snuggly and low maintenance charmant appartement '\n",
            " 'dans le mile end espace de vie spacieux chambre et bureau fermés et 2 '\n",
            " 'balcons lit queen divan lit laveuse sécheuse wifi câble et literie inclus '\n",
            " 'mon chat adorable chat margaret inclus']\n"
          ],
          "name": "stdout"
        }
      ]
    },
    {
      "cell_type": "code",
      "metadata": {
        "colab": {
          "base_uri": "https://localhost:8080/"
        },
        "id": "75tmwBWAR1Zm",
        "outputId": "b8112f5f-d12e-4ec2-f779-04cb38850d5f"
      },
      "source": [
        "print('total words in the dictionary:', tokenizer.num_words)"
      ],
      "execution_count": null,
      "outputs": [
        {
          "output_type": "stream",
          "text": [
            "total words in the dictionary: 40000\n"
          ],
          "name": "stdout"
        }
      ]
    },
    {
      "cell_type": "code",
      "metadata": {
        "colab": {
          "base_uri": "https://localhost:8080/"
        },
        "id": "_QkkRmqYR1Zm",
        "outputId": "f7bc4efb-5993-4507-ecec-69f4f8eb6389"
      },
      "source": [
        "from __future__ import absolute_import, division, print_function, unicode_literals\n",
        "import collections\n",
        "import matplotlib.pyplot as plt\n",
        "import numpy as np\n",
        "import tensorflow as tf\n",
        "from tensorflow import keras\n",
        "from tensorflow.keras.layers import Conv2D, Flatten, Dense, MaxPool2D\n",
        "from tensorflow.keras.optimizers import Adam\n",
        "\n",
        "in_text = keras.Input(batch_shape=(None, max_len))\n",
        "in_image = keras.Input(batch_shape=(None, 64, 64, 2))\n",
        "\n",
        "# text part\n",
        "embedded = keras.layers.Embedding(tokenizer.num_words, 100)(in_text)\n",
        "averaged = tf.reduce_mean(embedded, axis=1)\n",
        "\n",
        "\n",
        "# image part\n",
        "cov = Conv2D(32, (16, 16))(in_image)\n",
        "pl = MaxPool2D((16, 16))(cov)\n",
        "flattened = Flatten()(pl)\n",
        "\n",
        "\n",
        "# fusion:\n",
        "fused = tf.concat([averaged, flattened], axis=-1)\n",
        "\n",
        "# multi-objectives (each is a multi-class classification)\n",
        "p_price = Dense(len_price, activation='softmax', name='price')(fused)\n",
        "p_type = Dense(len_type, activation='softmax', name='type')(fused)\n",
        "\n",
        "\n",
        "model = keras.Model(\n",
        "    inputs={\n",
        "        'summary': in_text,\n",
        "        'image': in_image\n",
        "    },\n",
        "    outputs={\n",
        "        'price': p_price,\n",
        "        'type': p_type,\n",
        "    },\n",
        ")\n",
        "\n",
        "\n",
        "model.compile(\n",
        "    optimizer=Adam(),\n",
        "    loss={\n",
        "        'price': 'sparse_categorical_crossentropy',\n",
        "        'type': 'sparse_categorical_crossentropy',\n",
        "    },\n",
        "    loss_weights={\n",
        "        'price': 0.5,\n",
        "        'type': 0.5,       \n",
        "    },\n",
        "    metrics={\n",
        "        'price': ['SparseCategoricalAccuracy'],\n",
        "        'type': ['SparseCategoricalAccuracy'],\n",
        "    },\n",
        ")\n",
        "\n",
        "\n",
        "model.summary()"
      ],
      "execution_count": null,
      "outputs": [
        {
          "output_type": "stream",
          "text": [
            "Model: \"functional_3\"\n",
            "__________________________________________________________________________________________________\n",
            "Layer (type)                    Output Shape         Param #     Connected to                     \n",
            "==================================================================================================\n",
            "input_4 (InputLayer)            [(None, 64, 64, 2)]  0                                            \n",
            "__________________________________________________________________________________________________\n",
            "input_3 (InputLayer)            [(None, 100)]        0                                            \n",
            "__________________________________________________________________________________________________\n",
            "conv2d_1 (Conv2D)               (None, 49, 49, 32)   16416       input_4[0][0]                    \n",
            "__________________________________________________________________________________________________\n",
            "embedding_1 (Embedding)         (None, 100, 100)     4000000     input_3[0][0]                    \n",
            "__________________________________________________________________________________________________\n",
            "max_pooling2d_1 (MaxPooling2D)  (None, 3, 3, 32)     0           conv2d_1[0][0]                   \n",
            "__________________________________________________________________________________________________\n",
            "tf_op_layer_Mean_1 (TensorFlowO [(None, 100)]        0           embedding_1[0][0]                \n",
            "__________________________________________________________________________________________________\n",
            "flatten_1 (Flatten)             (None, 288)          0           max_pooling2d_1[0][0]            \n",
            "__________________________________________________________________________________________________\n",
            "tf_op_layer_concat_1 (TensorFlo [(None, 388)]        0           tf_op_layer_Mean_1[0][0]         \n",
            "                                                                 flatten_1[0][0]                  \n",
            "__________________________________________________________________________________________________\n",
            "price (Dense)                   (None, 3)            1167        tf_op_layer_concat_1[0][0]       \n",
            "__________________________________________________________________________________________________\n",
            "type (Dense)                    (None, 24)           9336        tf_op_layer_concat_1[0][0]       \n",
            "==================================================================================================\n",
            "Total params: 4,026,919\n",
            "Trainable params: 4,026,919\n",
            "Non-trainable params: 0\n",
            "__________________________________________________________________________________________________\n"
          ],
          "name": "stdout"
        }
      ]
    },
    {
      "cell_type": "code",
      "metadata": {
        "colab": {
          "base_uri": "https://localhost:8080/"
        },
        "id": "lyVFF4LTR1Zm",
        "outputId": "66daad91-8ddd-48f7-95c2-69acd9c838d0"
      },
      "source": [
        "history = model.fit(\n",
        "    x={\n",
        "        'summary': x_tr_text_id,\n",
        "        'image': x_tr_image\n",
        "    },\n",
        "    y={\n",
        "        'price': y_tr_price,\n",
        "        'type': y_tr_type,\n",
        "    },\n",
        "    epochs=20,\n",
        "    batch_size=16,\n",
        "    validation_data=(\n",
        "        {\n",
        "            'summary': x_vl_text_id,\n",
        "            'image': x_vl_image\n",
        "         }, \n",
        "        {\n",
        "            'price': y_vl_price,\n",
        "            'type': y_vl_type,\n",
        "        }),\n",
        "    validation_split=0.2,\n",
        "    callbacks=[\n",
        "        tf.keras.callbacks.EarlyStopping(monitor='val_price_loss', patience=5, )\n",
        "    ],\n",
        "    verbose=1\n",
        ")"
      ],
      "execution_count": null,
      "outputs": [
        {
          "output_type": "stream",
          "text": [
            "Epoch 1/20\n",
            "305/305 [==============================] - 12s 39ms/step - loss: 5.6183 - price_loss: 1.7225 - type_loss: 3.8958 - price_sparse_categorical_accuracy: 0.7863 - type_sparse_categorical_accuracy: 0.7693 - val_loss: 16.4726 - val_price_loss: 6.2020 - val_type_loss: 10.2706 - val_price_sparse_categorical_accuracy: 0.6937 - val_type_sparse_categorical_accuracy: 0.7527\n",
            "Epoch 2/20\n",
            "305/305 [==============================] - 12s 39ms/step - loss: 5.1698 - price_loss: 1.5501 - type_loss: 3.6197 - price_sparse_categorical_accuracy: 0.8008 - type_sparse_categorical_accuracy: 0.7738 - val_loss: 12.6485 - val_price_loss: 4.1276 - val_type_loss: 8.5209 - val_price_sparse_categorical_accuracy: 0.6667 - val_type_sparse_categorical_accuracy: 0.6544\n",
            "Epoch 3/20\n",
            "305/305 [==============================] - 12s 40ms/step - loss: 25.8703 - price_loss: 7.3216 - type_loss: 18.5487 - price_sparse_categorical_accuracy: 0.6912 - type_sparse_categorical_accuracy: 0.6965 - val_loss: 81.9663 - val_price_loss: 18.2530 - val_type_loss: 63.7132 - val_price_sparse_categorical_accuracy: 0.2662 - val_type_sparse_categorical_accuracy: 0.7731\n",
            "Epoch 4/20\n",
            "305/305 [==============================] - 12s 41ms/step - loss: 20.0995 - price_loss: 5.6809 - type_loss: 14.4185 - price_sparse_categorical_accuracy: 0.7367 - type_sparse_categorical_accuracy: 0.7338 - val_loss: 17.2404 - val_price_loss: 3.9374 - val_type_loss: 13.3030 - val_price_sparse_categorical_accuracy: 0.6290 - val_type_sparse_categorical_accuracy: 0.7355\n",
            "Epoch 5/20\n",
            "305/305 [==============================] - 13s 41ms/step - loss: 8.4381 - price_loss: 1.8644 - type_loss: 6.5737 - price_sparse_categorical_accuracy: 0.8105 - type_sparse_categorical_accuracy: 0.7811 - val_loss: 19.5107 - val_price_loss: 4.9042 - val_type_loss: 14.6065 - val_price_sparse_categorical_accuracy: 0.6822 - val_type_sparse_categorical_accuracy: 0.7805\n",
            "Epoch 6/20\n",
            "305/305 [==============================] - 13s 42ms/step - loss: 4.2398 - price_loss: 0.9535 - type_loss: 3.2863 - price_sparse_categorical_accuracy: 0.8561 - type_sparse_categorical_accuracy: 0.8324 - val_loss: 12.7895 - val_price_loss: 4.7364 - val_type_loss: 8.0531 - val_price_sparse_categorical_accuracy: 0.5635 - val_type_sparse_categorical_accuracy: 0.7338\n",
            "Epoch 7/20\n",
            "305/305 [==============================] - 13s 41ms/step - loss: 3.0752 - price_loss: 0.8199 - type_loss: 2.2553 - price_sparse_categorical_accuracy: 0.8600 - type_sparse_categorical_accuracy: 0.8477 - val_loss: 10.5620 - val_price_loss: 3.8207 - val_type_loss: 6.7413 - val_price_sparse_categorical_accuracy: 0.6519 - val_type_sparse_categorical_accuracy: 0.7314\n",
            "Epoch 8/20\n",
            "305/305 [==============================] - 13s 41ms/step - loss: 4.3635 - price_loss: 0.9747 - type_loss: 3.3887 - price_sparse_categorical_accuracy: 0.8436 - type_sparse_categorical_accuracy: 0.8154 - val_loss: 10.4060 - val_price_loss: 3.6866 - val_type_loss: 6.7193 - val_price_sparse_categorical_accuracy: 0.6699 - val_type_sparse_categorical_accuracy: 0.6462\n",
            "Epoch 9/20\n",
            "305/305 [==============================] - 12s 41ms/step - loss: 3.5278 - price_loss: 1.0434 - type_loss: 2.4845 - price_sparse_categorical_accuracy: 0.8400 - type_sparse_categorical_accuracy: 0.8422 - val_loss: 19.3951 - val_price_loss: 7.5625 - val_type_loss: 11.8325 - val_price_sparse_categorical_accuracy: 0.6724 - val_type_sparse_categorical_accuracy: 0.6601\n",
            "Epoch 10/20\n",
            "305/305 [==============================] - 12s 41ms/step - loss: 4.2297 - price_loss: 1.1470 - type_loss: 3.0826 - price_sparse_categorical_accuracy: 0.8357 - type_sparse_categorical_accuracy: 0.8217 - val_loss: 11.9368 - val_price_loss: 3.8360 - val_type_loss: 8.1008 - val_price_sparse_categorical_accuracy: 0.6282 - val_type_sparse_categorical_accuracy: 0.7330\n",
            "Epoch 11/20\n",
            "305/305 [==============================] - 12s 41ms/step - loss: 5.0616 - price_loss: 1.4694 - type_loss: 3.5923 - price_sparse_categorical_accuracy: 0.8156 - type_sparse_categorical_accuracy: 0.8010 - val_loss: 11.2129 - val_price_loss: 3.8034 - val_type_loss: 7.4095 - val_price_sparse_categorical_accuracy: 0.6380 - val_type_sparse_categorical_accuracy: 0.7453\n",
            "Epoch 12/20\n",
            "305/305 [==============================] - 13s 41ms/step - loss: 3.6085 - price_loss: 0.9052 - type_loss: 2.7033 - price_sparse_categorical_accuracy: 0.8590 - type_sparse_categorical_accuracy: 0.8240 - val_loss: 15.2553 - val_price_loss: 6.9629 - val_type_loss: 8.2923 - val_price_sparse_categorical_accuracy: 0.6110 - val_type_sparse_categorical_accuracy: 0.6650\n",
            "Epoch 13/20\n",
            "305/305 [==============================] - 12s 41ms/step - loss: 2.9152 - price_loss: 1.0373 - type_loss: 1.8779 - price_sparse_categorical_accuracy: 0.8492 - type_sparse_categorical_accuracy: 0.8508 - val_loss: 10.4202 - val_price_loss: 4.1081 - val_type_loss: 6.3121 - val_price_sparse_categorical_accuracy: 0.5921 - val_type_sparse_categorical_accuracy: 0.7125\n"
          ],
          "name": "stdout"
        }
      ]
    },
    {
      "cell_type": "code",
      "metadata": {
        "colab": {
          "base_uri": "https://localhost:8080/",
          "height": 66,
          "referenced_widgets": [
            "446e1b59e04b4a90929b6e6f2718be12",
            "805c9e1efef243fc87c30cc23f9df6f8",
            "ea09f53200bf4e35ac88b755147fc337",
            "a3e3aebc1d194f5f9b1680639e9e072c",
            "1df51aaafc214051b459f8fe3c828593",
            "eec96bdbe3354f5b8234c5362bc6838a",
            "5ae3e86ecd1f4d0f9b3cbf700ab11c7a",
            "1c2c8a347f3442a28d07c41c8c84dd27"
          ]
        },
        "id": "6fxoXMDER1Zm",
        "outputId": "7ae7b542-eafc-4fb1-d536-b5b477de1bca"
      },
      "source": [
        "x_test_summary = _preprocess(x_test_df.summary.astype(str))\n",
        "x_test_image = np.array([load_image(i) for i in tqdm(x_test_df.image)])\n"
      ],
      "execution_count": null,
      "outputs": [
        {
          "output_type": "display_data",
          "data": {
            "application/vnd.jupyter.widget-view+json": {
              "model_id": "446e1b59e04b4a90929b6e6f2718be12",
              "version_major": 2,
              "version_minor": 0
            },
            "text/plain": [
              "HBox(children=(FloatProgress(value=0.0, max=7360.0), HTML(value='')))"
            ]
          },
          "metadata": {
            "tags": []
          }
        },
        {
          "output_type": "stream",
          "text": [
            "\n"
          ],
          "name": "stdout"
        }
      ]
    },
    {
      "cell_type": "code",
      "metadata": {
        "colab": {
          "base_uri": "https://localhost:8080/"
        },
        "id": "ZoqKB--AZYgc",
        "outputId": "f68dd253-9cb3-4438-99bb-ffe381da7b05"
      },
      "source": [
        "y_predict = model.predict(\n",
        "    {\n",
        "        'summary': x_test_summary,\n",
        "        'image': x_test_image\n",
        "    }\n",
        ")\n",
        "\n",
        "price_predicted = y_predict['price']\n",
        "print(price_predicted)\n",
        "price_category_predicted = np.argmax(price_predicted, axis=1)\n",
        "print(price_category_predicted)\n",
        "\n",
        "pd.DataFrame(\n",
        "    {'id': x_test_df.id,\n",
        "     'price': price_category_predicted}).to_csv('sample_submission.csv', index=False)"
      ],
      "execution_count": null,
      "outputs": [
        {
          "output_type": "stream",
          "text": [
            "[[9.9591368e-01 1.7761519e-09 4.0862821e-03]\n",
            " [1.0000000e+00 1.3375651e-09 4.6718315e-12]\n",
            " [9.9983203e-01 2.2399130e-10 1.6794473e-04]\n",
            " ...\n",
            " [2.9095626e-02 9.7090435e-01 3.2091119e-09]\n",
            " [1.0000000e+00 1.2734681e-17 6.6337732e-30]\n",
            " [9.9572611e-01 4.2736656e-03 1.9571750e-07]]\n",
            "[0 0 0 ... 1 0 0]\n"
          ],
          "name": "stdout"
        }
      ]
    },
    {
      "cell_type": "code",
      "metadata": {
        "id": "eHUXFXX5R1Zm"
      },
      "source": [
        ""
      ],
      "execution_count": null,
      "outputs": []
    }
  ]
}